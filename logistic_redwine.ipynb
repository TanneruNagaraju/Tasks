{
 "cells": [
  {
   "cell_type": "code",
   "execution_count": 1,
   "metadata": {},
   "outputs": [],
   "source": [
    "import numpy as np\n",
    "import pandas as pd\n",
    "import matplotlib.pyplot as plt\n",
    "import seaborn as sns\n",
    "import math\n",
    "import warnings\n",
    "warnings.filterwarnings('ignore')"
   ]
  },
  {
   "cell_type": "code",
   "execution_count": 2,
   "metadata": {},
   "outputs": [],
   "source": [
    "df = pd.read_csv(\"C:/Users/TANNERU/Downloads/Dataset for coding/winequality-red.csv\")"
   ]
  },
  {
   "cell_type": "code",
   "execution_count": 3,
   "metadata": {},
   "outputs": [
    {
     "name": "stdout",
     "output_type": "stream",
     "text": [
      "      fixed acidity  volatile acidity  citric acid  residual sugar  chlorides  \\\n",
      "0               7.4             0.700         0.00             1.9      0.076   \n",
      "1               7.8             0.880         0.00             2.6      0.098   \n",
      "2               7.8             0.760         0.04             2.3      0.092   \n",
      "3              11.2             0.280         0.56             1.9      0.075   \n",
      "4               7.4             0.700         0.00             1.9      0.076   \n",
      "...             ...               ...          ...             ...        ...   \n",
      "1594            6.2             0.600         0.08             2.0      0.090   \n",
      "1595            5.9             0.550         0.10             2.2      0.062   \n",
      "1596            6.3             0.510         0.13             2.3      0.076   \n",
      "1597            5.9             0.645         0.12             2.0      0.075   \n",
      "1598            6.0             0.310         0.47             3.6      0.067   \n",
      "\n",
      "      free sulfur dioxide  total sulfur dioxide  density    pH  sulphates  \\\n",
      "0                    11.0                  34.0  0.99780  3.51       0.56   \n",
      "1                    25.0                  67.0  0.99680  3.20       0.68   \n",
      "2                    15.0                  54.0  0.99700  3.26       0.65   \n",
      "3                    17.0                  60.0  0.99800  3.16       0.58   \n",
      "4                    11.0                  34.0  0.99780  3.51       0.56   \n",
      "...                   ...                   ...      ...   ...        ...   \n",
      "1594                 32.0                  44.0  0.99490  3.45       0.58   \n",
      "1595                 39.0                  51.0  0.99512  3.52       0.76   \n",
      "1596                 29.0                  40.0  0.99574  3.42       0.75   \n",
      "1597                 32.0                  44.0  0.99547  3.57       0.71   \n",
      "1598                 18.0                  42.0  0.99549  3.39       0.66   \n",
      "\n",
      "      alcohol  quality  \n",
      "0         9.4        5  \n",
      "1         9.8        5  \n",
      "2         9.8        5  \n",
      "3         9.8        6  \n",
      "4         9.4        5  \n",
      "...       ...      ...  \n",
      "1594     10.5        5  \n",
      "1595     11.2        6  \n",
      "1596     11.0        6  \n",
      "1597     10.2        5  \n",
      "1598     11.0        6  \n",
      "\n",
      "[1599 rows x 12 columns]\n"
     ]
    }
   ],
   "source": [
    "print(df)"
   ]
  },
  {
   "cell_type": "code",
   "execution_count": 4,
   "metadata": {},
   "outputs": [
    {
     "name": "stdout",
     "output_type": "stream",
     "text": [
      "<class 'pandas.core.frame.DataFrame'>\n",
      "RangeIndex: 1599 entries, 0 to 1598\n",
      "Data columns (total 12 columns):\n",
      " #   Column                Non-Null Count  Dtype  \n",
      "---  ------                --------------  -----  \n",
      " 0   fixed acidity         1599 non-null   float64\n",
      " 1   volatile acidity      1599 non-null   float64\n",
      " 2   citric acid           1599 non-null   float64\n",
      " 3   residual sugar        1599 non-null   float64\n",
      " 4   chlorides             1599 non-null   float64\n",
      " 5   free sulfur dioxide   1599 non-null   float64\n",
      " 6   total sulfur dioxide  1599 non-null   float64\n",
      " 7   density               1599 non-null   float64\n",
      " 8   pH                    1599 non-null   float64\n",
      " 9   sulphates             1599 non-null   float64\n",
      " 10  alcohol               1599 non-null   float64\n",
      " 11  quality               1599 non-null   int64  \n",
      "dtypes: float64(11), int64(1)\n",
      "memory usage: 150.0 KB\n"
     ]
    }
   ],
   "source": [
    "df.info()"
   ]
  },
  {
   "cell_type": "code",
   "execution_count": 5,
   "metadata": {},
   "outputs": [
    {
     "name": "stdout",
     "output_type": "stream",
     "text": [
      "(1599, 12)\n",
      "19188\n"
     ]
    }
   ],
   "source": [
    "print(df.shape)\n",
    "print(df.size)"
   ]
  },
  {
   "cell_type": "code",
   "execution_count": 6,
   "metadata": {},
   "outputs": [
    {
     "data": {
      "text/html": [
       "<div>\n",
       "<style scoped>\n",
       "    .dataframe tbody tr th:only-of-type {\n",
       "        vertical-align: middle;\n",
       "    }\n",
       "\n",
       "    .dataframe tbody tr th {\n",
       "        vertical-align: top;\n",
       "    }\n",
       "\n",
       "    .dataframe thead th {\n",
       "        text-align: right;\n",
       "    }\n",
       "</style>\n",
       "<table border=\"1\" class=\"dataframe\">\n",
       "  <thead>\n",
       "    <tr style=\"text-align: right;\">\n",
       "      <th></th>\n",
       "      <th>fixed acidity</th>\n",
       "      <th>volatile acidity</th>\n",
       "      <th>citric acid</th>\n",
       "      <th>residual sugar</th>\n",
       "      <th>chlorides</th>\n",
       "      <th>free sulfur dioxide</th>\n",
       "      <th>total sulfur dioxide</th>\n",
       "      <th>density</th>\n",
       "      <th>pH</th>\n",
       "      <th>sulphates</th>\n",
       "      <th>alcohol</th>\n",
       "      <th>quality</th>\n",
       "    </tr>\n",
       "  </thead>\n",
       "  <tbody>\n",
       "    <tr>\n",
       "      <th>count</th>\n",
       "      <td>1599.000000</td>\n",
       "      <td>1599.000000</td>\n",
       "      <td>1599.000000</td>\n",
       "      <td>1599.000000</td>\n",
       "      <td>1599.000000</td>\n",
       "      <td>1599.000000</td>\n",
       "      <td>1599.000000</td>\n",
       "      <td>1599.000000</td>\n",
       "      <td>1599.000000</td>\n",
       "      <td>1599.000000</td>\n",
       "      <td>1599.000000</td>\n",
       "      <td>1599.000000</td>\n",
       "    </tr>\n",
       "    <tr>\n",
       "      <th>mean</th>\n",
       "      <td>8.319637</td>\n",
       "      <td>0.527821</td>\n",
       "      <td>0.270976</td>\n",
       "      <td>2.538806</td>\n",
       "      <td>0.087467</td>\n",
       "      <td>15.874922</td>\n",
       "      <td>46.467792</td>\n",
       "      <td>0.996747</td>\n",
       "      <td>3.311113</td>\n",
       "      <td>0.658149</td>\n",
       "      <td>10.422983</td>\n",
       "      <td>5.636023</td>\n",
       "    </tr>\n",
       "    <tr>\n",
       "      <th>std</th>\n",
       "      <td>1.741096</td>\n",
       "      <td>0.179060</td>\n",
       "      <td>0.194801</td>\n",
       "      <td>1.409928</td>\n",
       "      <td>0.047065</td>\n",
       "      <td>10.460157</td>\n",
       "      <td>32.895324</td>\n",
       "      <td>0.001887</td>\n",
       "      <td>0.154386</td>\n",
       "      <td>0.169507</td>\n",
       "      <td>1.065668</td>\n",
       "      <td>0.807569</td>\n",
       "    </tr>\n",
       "    <tr>\n",
       "      <th>min</th>\n",
       "      <td>4.600000</td>\n",
       "      <td>0.120000</td>\n",
       "      <td>0.000000</td>\n",
       "      <td>0.900000</td>\n",
       "      <td>0.012000</td>\n",
       "      <td>1.000000</td>\n",
       "      <td>6.000000</td>\n",
       "      <td>0.990070</td>\n",
       "      <td>2.740000</td>\n",
       "      <td>0.330000</td>\n",
       "      <td>8.400000</td>\n",
       "      <td>3.000000</td>\n",
       "    </tr>\n",
       "    <tr>\n",
       "      <th>25%</th>\n",
       "      <td>7.100000</td>\n",
       "      <td>0.390000</td>\n",
       "      <td>0.090000</td>\n",
       "      <td>1.900000</td>\n",
       "      <td>0.070000</td>\n",
       "      <td>7.000000</td>\n",
       "      <td>22.000000</td>\n",
       "      <td>0.995600</td>\n",
       "      <td>3.210000</td>\n",
       "      <td>0.550000</td>\n",
       "      <td>9.500000</td>\n",
       "      <td>5.000000</td>\n",
       "    </tr>\n",
       "    <tr>\n",
       "      <th>50%</th>\n",
       "      <td>7.900000</td>\n",
       "      <td>0.520000</td>\n",
       "      <td>0.260000</td>\n",
       "      <td>2.200000</td>\n",
       "      <td>0.079000</td>\n",
       "      <td>14.000000</td>\n",
       "      <td>38.000000</td>\n",
       "      <td>0.996750</td>\n",
       "      <td>3.310000</td>\n",
       "      <td>0.620000</td>\n",
       "      <td>10.200000</td>\n",
       "      <td>6.000000</td>\n",
       "    </tr>\n",
       "    <tr>\n",
       "      <th>75%</th>\n",
       "      <td>9.200000</td>\n",
       "      <td>0.640000</td>\n",
       "      <td>0.420000</td>\n",
       "      <td>2.600000</td>\n",
       "      <td>0.090000</td>\n",
       "      <td>21.000000</td>\n",
       "      <td>62.000000</td>\n",
       "      <td>0.997835</td>\n",
       "      <td>3.400000</td>\n",
       "      <td>0.730000</td>\n",
       "      <td>11.100000</td>\n",
       "      <td>6.000000</td>\n",
       "    </tr>\n",
       "    <tr>\n",
       "      <th>max</th>\n",
       "      <td>15.900000</td>\n",
       "      <td>1.580000</td>\n",
       "      <td>1.000000</td>\n",
       "      <td>15.500000</td>\n",
       "      <td>0.611000</td>\n",
       "      <td>72.000000</td>\n",
       "      <td>289.000000</td>\n",
       "      <td>1.003690</td>\n",
       "      <td>4.010000</td>\n",
       "      <td>2.000000</td>\n",
       "      <td>14.900000</td>\n",
       "      <td>8.000000</td>\n",
       "    </tr>\n",
       "  </tbody>\n",
       "</table>\n",
       "</div>"
      ],
      "text/plain": [
       "       fixed acidity  volatile acidity  citric acid  residual sugar  \\\n",
       "count    1599.000000       1599.000000  1599.000000     1599.000000   \n",
       "mean        8.319637          0.527821     0.270976        2.538806   \n",
       "std         1.741096          0.179060     0.194801        1.409928   \n",
       "min         4.600000          0.120000     0.000000        0.900000   \n",
       "25%         7.100000          0.390000     0.090000        1.900000   \n",
       "50%         7.900000          0.520000     0.260000        2.200000   \n",
       "75%         9.200000          0.640000     0.420000        2.600000   \n",
       "max        15.900000          1.580000     1.000000       15.500000   \n",
       "\n",
       "         chlorides  free sulfur dioxide  total sulfur dioxide      density  \\\n",
       "count  1599.000000          1599.000000           1599.000000  1599.000000   \n",
       "mean      0.087467            15.874922             46.467792     0.996747   \n",
       "std       0.047065            10.460157             32.895324     0.001887   \n",
       "min       0.012000             1.000000              6.000000     0.990070   \n",
       "25%       0.070000             7.000000             22.000000     0.995600   \n",
       "50%       0.079000            14.000000             38.000000     0.996750   \n",
       "75%       0.090000            21.000000             62.000000     0.997835   \n",
       "max       0.611000            72.000000            289.000000     1.003690   \n",
       "\n",
       "                pH    sulphates      alcohol      quality  \n",
       "count  1599.000000  1599.000000  1599.000000  1599.000000  \n",
       "mean      3.311113     0.658149    10.422983     5.636023  \n",
       "std       0.154386     0.169507     1.065668     0.807569  \n",
       "min       2.740000     0.330000     8.400000     3.000000  \n",
       "25%       3.210000     0.550000     9.500000     5.000000  \n",
       "50%       3.310000     0.620000    10.200000     6.000000  \n",
       "75%       3.400000     0.730000    11.100000     6.000000  \n",
       "max       4.010000     2.000000    14.900000     8.000000  "
      ]
     },
     "execution_count": 6,
     "metadata": {},
     "output_type": "execute_result"
    }
   ],
   "source": [
    "df.describe()"
   ]
  },
  {
   "cell_type": "code",
   "execution_count": 7,
   "metadata": {},
   "outputs": [
    {
     "data": {
      "text/plain": [
       "Index(['fixed acidity', 'volatile acidity', 'citric acid', 'residual sugar',\n",
       "       'chlorides', 'free sulfur dioxide', 'total sulfur dioxide', 'density',\n",
       "       'pH', 'sulphates', 'alcohol', 'quality'],\n",
       "      dtype='object')"
      ]
     },
     "execution_count": 7,
     "metadata": {},
     "output_type": "execute_result"
    }
   ],
   "source": [
    "df.columns"
   ]
  },
  {
   "cell_type": "code",
   "execution_count": 8,
   "metadata": {},
   "outputs": [
    {
     "data": {
      "text/plain": [
       "fixed acidity           0.124052\n",
       "volatile acidity       -0.390558\n",
       "citric acid             0.226373\n",
       "residual sugar          0.013732\n",
       "chlorides              -0.128907\n",
       "free sulfur dioxide    -0.050656\n",
       "total sulfur dioxide   -0.185100\n",
       "density                -0.174919\n",
       "pH                     -0.057731\n",
       "sulphates               0.251397\n",
       "alcohol                 0.476166\n",
       "quality                 1.000000\n",
       "Name: quality, dtype: float64"
      ]
     },
     "execution_count": 8,
     "metadata": {},
     "output_type": "execute_result"
    }
   ],
   "source": [
    "#correaltion between all columns with quality\n",
    "df.corr().quality "
   ]
  },
  {
   "cell_type": "code",
   "execution_count": 9,
   "metadata": {},
   "outputs": [
    {
     "data": {
      "text/plain": [
       "array([3, 4, 5, 6, 7, 8], dtype=int64)"
      ]
     },
     "execution_count": 9,
     "metadata": {},
     "output_type": "execute_result"
    }
   ],
   "source": [
    "np.unique(df['quality'])"
   ]
  },
  {
   "cell_type": "code",
   "execution_count": 10,
   "metadata": {},
   "outputs": [
    {
     "data": {
      "text/plain": [
       "<matplotlib.axes._subplots.AxesSubplot at 0x1ea9b2522c8>"
      ]
     },
     "execution_count": 10,
     "metadata": {},
     "output_type": "execute_result"
    },
    {
     "data": {
      "image/png": "[encoded data removed]",
      "text/plain": [
       "<Figure size 720x432 with 1 Axes>"
      ]
     },
     "metadata": {
      "needs_background": "light"
     },
     "output_type": "display_data"
    }
   ],
   "source": [
    "#DATA VISUALISATION\n",
    "fig = plt.figure(figsize = (10,6))\n",
    "sns.barplot(x = 'quality',y = 'fixed acidity' ,data=df )"
   ]
  },
  {
   "cell_type": "code",
   "execution_count": 11,
   "metadata": {},
   "outputs": [
    {
     "data": {
      "text/plain": [
       "<matplotlib.axes._subplots.AxesSubplot at 0x1ea9bb7fbc8>"
      ]
     },
     "execution_count": 11,
     "metadata": {},
     "output_type": "execute_result"
    },
    {
     "data": {
      "image/png": "[encoded data removed]",
      "text/plain": [
       "<Figure size 720x432 with 1 Axes>"
      ]
     },
     "metadata": {
      "needs_background": "light"
     },
     "output_type": "display_data"
    }
   ],
   "source": [
    "fig = plt.figure(figsize = (10,6))\n",
    "sns.barplot(x = 'quality', y = 'volatile acidity' ,data = df)"
   ]
  },
  {
   "cell_type": "code",
   "execution_count": 12,
   "metadata": {},
   "outputs": [
    {
     "data": {
      "text/plain": [
       "<matplotlib.axes._subplots.AxesSubplot at 0x1ea9bd91a88>"
      ]
     },
     "execution_count": 12,
     "metadata": {},
     "output_type": "execute_result"
    },
    {
     "data": {
      "image/png": "[encoded data removed]",
      "text/plain": [
       "<Figure size 720x432 with 1 Axes>"
      ]
     },
     "metadata": {
      "needs_background": "light"
     },
     "output_type": "display_data"
    }
   ],
   "source": [
    "fig = plt.figure(figsize = (10,6))\n",
    "sns.barplot(x = 'quality', y = 'citric acid' ,data = df)"
   ]
  },
  {
   "cell_type": "code",
   "execution_count": 13,
   "metadata": {},
   "outputs": [
    {
     "data": {
      "text/plain": [
       "<matplotlib.axes._subplots.AxesSubplot at 0x1ea9bc80b08>"
      ]
     },
     "execution_count": 13,
     "metadata": {},
     "output_type": "execute_result"
    },
    {
     "data": {
      "image/png": "[encoded data removed]",
      "text/plain": [
       "<Figure size 720x432 with 1 Axes>"
      ]
     },
     "metadata": {
      "needs_background": "light"
     },
     "output_type": "display_data"
    }
   ],
   "source": [
    "fig = plt.figure(figsize = (10,6))\n",
    "sns.barplot(x = 'quality', y = 'residual sugar' ,data = df)"
   ]
  },
  {
   "cell_type": "code",
   "execution_count": 14,
   "metadata": {},
   "outputs": [
    {
     "data": {
      "text/plain": [
       "<matplotlib.axes._subplots.AxesSubplot at 0x1ea9bcefec8>"
      ]
     },
     "execution_count": 14,
     "metadata": {},
     "output_type": "execute_result"
    },
    {
     "data": {
      "image/png": "[encoded data removed]",
      "text/plain": [
       "<Figure size 720x432 with 1 Axes>"
      ]
     },
     "metadata": {
      "needs_background": "light"
     },
     "output_type": "display_data"
    }
   ],
   "source": [
    "fig = plt.figure(figsize = (10,6))\n",
    "sns.barplot(x = 'quality', y = 'chlorides' ,data = df)"
   ]
  },
  {
   "cell_type": "code",
   "execution_count": 15,
   "metadata": {},
   "outputs": [
    {
     "data": {
      "text/plain": [
       "<matplotlib.axes._subplots.AxesSubplot at 0x1ea9bc4bc88>"
      ]
     },
     "execution_count": 15,
     "metadata": {},
     "output_type": "execute_result"
    },
    {
     "data": {
      "image/png": "[encoded data removed]",
      "text/plain": [
       "<Figure size 720x432 with 1 Axes>"
      ]
     },
     "metadata": {
      "needs_background": "light"
     },
     "output_type": "display_data"
    }
   ],
   "source": [
    "fig = plt.figure(figsize = (10,6))\n",
    "sns.barplot(x = 'quality', y = 'free sulfur dioxide' ,data = df)"
   ]
  },
  {
   "cell_type": "code",
   "execution_count": 16,
   "metadata": {},
   "outputs": [
    {
     "data": {
      "text/plain": [
       "<matplotlib.axes._subplots.AxesSubplot at 0x1ea9be17308>"
      ]
     },
     "execution_count": 16,
     "metadata": {},
     "output_type": "execute_result"
    },
    {
     "data": {
      "image/png": "[encoded data removed]",
      "text/plain": [
       "<Figure size 720x432 with 1 Axes>"
      ]
     },
     "metadata": {
      "needs_background": "light"
     },
     "output_type": "display_data"
    }
   ],
   "source": [
    "fig = plt.figure(figsize = (10,6))\n",
    "sns.barplot(x = 'quality', y = 'total sulfur dioxide' ,data = df)"
   ]
  },
  {
   "cell_type": "code",
   "execution_count": 17,
   "metadata": {},
   "outputs": [
    {
     "data": {
      "text/plain": [
       "<matplotlib.axes._subplots.AxesSubplot at 0x1ea9bc72448>"
      ]
     },
     "execution_count": 17,
     "metadata": {},
     "output_type": "execute_result"
    },
    {
     "data": {
      "image/png": "[encoded data removed]",
      "text/plain": [
       "<Figure size 720x432 with 1 Axes>"
      ]
     },
     "metadata": {
      "needs_background": "light"
     },
     "output_type": "display_data"
    }
   ],
   "source": [
    "fig = plt.figure(figsize = (10,6))\n",
    "sns.barplot(x = 'quality', y = 'density' ,data = df)"
   ]
  },
  {
   "cell_type": "code",
   "execution_count": 18,
   "metadata": {},
   "outputs": [
    {
     "data": {
      "text/plain": [
       "<matplotlib.axes._subplots.AxesSubplot at 0x1ea9be1ec48>"
      ]
     },
     "execution_count": 18,
     "metadata": {},
     "output_type": "execute_result"
    },
    {
     "data": {
      "image/png": "[encoded data removed]",
      "text/plain": [
       "<Figure size 720x432 with 1 Axes>"
      ]
     },
     "metadata": {
      "needs_background": "light"
     },
     "output_type": "display_data"
    }
   ],
   "source": [
    "fig = plt.figure(figsize = (10,6))\n",
    "sns.barplot(x = 'quality', y = 'pH' ,data = df)"
   ]
  },
  {
   "cell_type": "code",
   "execution_count": 19,
   "metadata": {},
   "outputs": [
    {
     "data": {
      "text/plain": [
       "<matplotlib.axes._subplots.AxesSubplot at 0x1ea9bfd5848>"
      ]
     },
     "execution_count": 19,
     "metadata": {},
     "output_type": "execute_result"
    },
    {
     "data": {
      "image/png": "[encoded data removed]",
      "text/plain": [
       "<Figure size 720x432 with 1 Axes>"
      ]
     },
     "metadata": {
      "needs_background": "light"
     },
     "output_type": "display_data"
    }
   ],
   "source": [
    "fig = plt.figure(figsize = (10,6))\n",
    "sns.barplot(x = 'quality', y = 'sulphates' ,data = df)"
   ]
  },
  {
   "cell_type": "code",
   "execution_count": 20,
   "metadata": {},
   "outputs": [
    {
     "data": {
      "text/plain": [
       "<matplotlib.axes._subplots.AxesSubplot at 0x1ea9c06c9c8>"
      ]
     },
     "execution_count": 20,
     "metadata": {},
     "output_type": "execute_result"
    },
    {
     "data": {
      "image/png": "[encoded data removed]",
      "text/plain": [
       "<Figure size 720x432 with 1 Axes>"
      ]
     },
     "metadata": {
      "needs_background": "light"
     },
     "output_type": "display_data"
    }
   ],
   "source": [
    "fig = plt.figure(figsize = (10,6))\n",
    "sns.barplot(x = 'quality', y = 'alcohol' ,data = df)"
   ]
  },
  {
   "cell_type": "code",
   "execution_count": 21,
   "metadata": {},
   "outputs": [],
   "source": [
    "values = (1,4,8)\n",
    "review = ['bad','good']\n",
    "df['quality'] = pd.cut(df['quality'],bins=values,labels = review)"
   ]
  },
  {
   "cell_type": "code",
   "execution_count": 22,
   "metadata": {},
   "outputs": [
    {
     "data": {
      "text/plain": [
       "good    1536\n",
       "bad       63\n",
       "Name: quality, dtype: int64"
      ]
     },
     "execution_count": 22,
     "metadata": {},
     "output_type": "execute_result"
    }
   ],
   "source": [
    "df['quality'].value_counts()"
   ]
  },
  {
   "cell_type": "code",
   "execution_count": 23,
   "metadata": {},
   "outputs": [],
   "source": [
    "from sklearn.preprocessing import LabelEncoder\n",
    "encoder = LabelEncoder()\n",
    "df['quality'] = encoder.fit_transform(df['quality'])\n"
   ]
  },
  {
   "cell_type": "code",
   "execution_count": 24,
   "metadata": {},
   "outputs": [
    {
     "data": {
      "text/plain": [
       "1    1536\n",
       "0      63\n",
       "Name: quality, dtype: int64"
      ]
     },
     "execution_count": 24,
     "metadata": {},
     "output_type": "execute_result"
    }
   ],
   "source": [
    "df['quality'].value_counts()"
   ]
  },
  {
   "cell_type": "code",
   "execution_count": 25,
   "metadata": {},
   "outputs": [],
   "source": [
    "X = df[['fixed acidity','citric acid','residual sugar','sulphates','alcohol']]\n",
    "Y = df['quality']"
   ]
  },
  {
   "cell_type": "code",
   "execution_count": 26,
   "metadata": {},
   "outputs": [
    {
     "name": "stdout",
     "output_type": "stream",
     "text": [
      "      fixed acidity  citric acid  residual sugar  sulphates  alcohol\n",
      "0               7.4         0.00             1.9       0.56      9.4\n",
      "1               7.8         0.00             2.6       0.68      9.8\n",
      "2               7.8         0.04             2.3       0.65      9.8\n",
      "3              11.2         0.56             1.9       0.58      9.8\n",
      "4               7.4         0.00             1.9       0.56      9.4\n",
      "...             ...          ...             ...        ...      ...\n",
      "1594            6.2         0.08             2.0       0.58     10.5\n",
      "1595            5.9         0.10             2.2       0.76     11.2\n",
      "1596            6.3         0.13             2.3       0.75     11.0\n",
      "1597            5.9         0.12             2.0       0.71     10.2\n",
      "1598            6.0         0.47             3.6       0.66     11.0\n",
      "\n",
      "[1599 rows x 5 columns]\n"
     ]
    }
   ],
   "source": [
    "print(X)\n"
   ]
  },
  {
   "cell_type": "code",
   "execution_count": 27,
   "metadata": {},
   "outputs": [
    {
     "name": "stdout",
     "output_type": "stream",
     "text": [
      "0       1\n",
      "1       1\n",
      "2       1\n",
      "3       1\n",
      "4       1\n",
      "       ..\n",
      "1594    1\n",
      "1595    1\n",
      "1596    1\n",
      "1597    1\n",
      "1598    1\n",
      "Name: quality, Length: 1599, dtype: int32\n"
     ]
    }
   ],
   "source": [
    "print(Y)"
   ]
  },
  {
   "cell_type": "code",
   "execution_count": 28,
   "metadata": {},
   "outputs": [
    {
     "name": "stdout",
     "output_type": "stream",
     "text": [
      "Counter({1: 1536, 0: 63})\n"
     ]
    }
   ],
   "source": [
    "from collections import Counter\n",
    "print(Counter(Y))"
   ]
  },
  {
   "cell_type": "code",
   "execution_count": 29,
   "metadata": {},
   "outputs": [],
   "source": [
    "N,D = X.shape"
   ]
  },
  {
   "cell_type": "code",
   "execution_count": 30,
   "metadata": {},
   "outputs": [
    {
     "name": "stdout",
     "output_type": "stream",
     "text": [
      "1599\n",
      "5\n"
     ]
    }
   ],
   "source": [
    "print(N)\n",
    "print(D)"
   ]
  },
  {
   "cell_type": "code",
   "execution_count": 31,
   "metadata": {},
   "outputs": [],
   "source": [
    "ones = np.ones((N,1))"
   ]
  },
  {
   "cell_type": "code",
   "execution_count": 32,
   "metadata": {},
   "outputs": [
    {
     "name": "stdout",
     "output_type": "stream",
     "text": [
      "[[1.]\n",
      " [1.]\n",
      " [1.]\n",
      " ...\n",
      " [1.]\n",
      " [1.]\n",
      " [1.]]\n",
      "(1599, 1)\n"
     ]
    }
   ],
   "source": [
    "print(ones)\n",
    "print(ones.shape)"
   ]
  },
  {
   "cell_type": "code",
   "execution_count": 33,
   "metadata": {},
   "outputs": [],
   "source": [
    "Xb = np.concatenate((X,ones),axis = 1)"
   ]
  },
  {
   "cell_type": "code",
   "execution_count": 34,
   "metadata": {},
   "outputs": [
    {
     "name": "stdout",
     "output_type": "stream",
     "text": [
      "[[ 7.4   0.    1.9   0.56  9.4   1.  ]\n",
      " [ 7.8   0.    2.6   0.68  9.8   1.  ]\n",
      " [ 7.8   0.04  2.3   0.65  9.8   1.  ]\n",
      " ...\n",
      " [ 6.3   0.13  2.3   0.75 11.    1.  ]\n",
      " [ 5.9   0.12  2.    0.71 10.2   1.  ]\n",
      " [ 6.    0.47  3.6   0.66 11.    1.  ]]\n",
      "(1599, 6)\n"
     ]
    }
   ],
   "source": [
    "print(Xb)\n",
    "print(Xb.shape)\n"
   ]
  },
  {
   "cell_type": "code",
   "execution_count": 35,
   "metadata": {},
   "outputs": [],
   "source": [
    "w = np.random.randn(D+1)"
   ]
  },
  {
   "cell_type": "code",
   "execution_count": 36,
   "metadata": {},
   "outputs": [
    {
     "name": "stdout",
     "output_type": "stream",
     "text": [
      "[-2.4042427  -1.42477256 -0.74551611  0.10654022  1.44918266  0.56092994]\n"
     ]
    }
   ],
   "source": [
    "print(w)"
   ]
  },
  {
   "cell_type": "code",
   "execution_count": 37,
   "metadata": {},
   "outputs": [],
   "source": [
    "from sklearn.utils import shuffle\n",
    "Xb,Y = shuffle(Xb,Y,random_state = 25)"
   ]
  },
  {
   "cell_type": "code",
   "execution_count": 38,
   "metadata": {},
   "outputs": [
    {
     "name": "stdout",
     "output_type": "stream",
     "text": [
      "[[10.    0.49  2.7   0.63 11.6   1.  ]\n",
      " [ 6.8   0.22  1.8   0.82 11.2   1.  ]\n",
      " [ 6.8   0.    5.6   0.72 10.2   1.  ]\n",
      " ...\n",
      " [10.5   0.51  1.7   0.89  9.4   1.  ]\n",
      " [ 9.8   0.39  3.2   0.71 11.5   1.  ]\n",
      " [ 8.5   0.51  1.75  0.76 11.8   1.  ]]\n"
     ]
    }
   ],
   "source": [
    "print(Xb)"
   ]
  },
  {
   "cell_type": "code",
   "execution_count": 39,
   "metadata": {},
   "outputs": [
    {
     "name": "stdout",
     "output_type": "stream",
     "text": [
      "443     1\n",
      "868     1\n",
      "625     1\n",
      "77      1\n",
      "195     1\n",
      "       ..\n",
      "1341    1\n",
      "143     1\n",
      "474     1\n",
      "318     1\n",
      "1156    1\n",
      "Name: quality, Length: 1599, dtype: int32\n"
     ]
    }
   ],
   "source": [
    "print(Y)"
   ]
  },
  {
   "cell_type": "code",
   "execution_count": 40,
   "metadata": {},
   "outputs": [],
   "source": [
    "#training 75% and testing 25%\n",
    "Xtrain = Xb[:1199]\n",
    "Xtest = Xb[1199:]\n",
    "Ytrain = Y[:1199]\n",
    "Ytest = Y[1199:]"
   ]
  },
  {
   "cell_type": "code",
   "execution_count": 41,
   "metadata": {},
   "outputs": [
    {
     "name": "stdout",
     "output_type": "stream",
     "text": [
      "(1199, 6)\n",
      "(400, 6)\n",
      "(1199,)\n",
      "(400,)\n"
     ]
    }
   ],
   "source": [
    "print(Xtrain.shape)\n",
    "print(Xtest.shape)\n",
    "print(Ytrain.shape)\n",
    "print(Ytest.shape)\n"
   ]
  },
  {
   "cell_type": "code",
   "execution_count": 42,
   "metadata": {},
   "outputs": [
    {
     "name": "stdout",
     "output_type": "stream",
     "text": [
      "[[10.    0.49  2.7   0.63 11.6   1.  ]\n",
      " [ 6.8   0.22  1.8   0.82 11.2   1.  ]\n",
      " [ 6.8   0.    5.6   0.72 10.2   1.  ]\n",
      " ...\n",
      " [ 5.4   0.    1.2   0.59 12.5   1.  ]\n",
      " [ 7.3   0.1   1.8   0.56  9.2   1.  ]\n",
      " [ 7.4   0.    1.8   0.56  9.4   1.  ]]\n"
     ]
    }
   ],
   "source": [
    "print(Xtrain)"
   ]
  },
  {
   "cell_type": "code",
   "execution_count": 43,
   "metadata": {},
   "outputs": [
    {
     "name": "stdout",
     "output_type": "stream",
     "text": [
      "[[ 8.8   0.    1.7   0.53 10.    1.  ]\n",
      " [ 6.4   0.    2.2   0.52 11.6   1.  ]\n",
      " [ 7.7   0.76  1.8   1.26  9.4   1.  ]\n",
      " ...\n",
      " [10.5   0.51  1.7   0.89  9.4   1.  ]\n",
      " [ 9.8   0.39  3.2   0.71 11.5   1.  ]\n",
      " [ 8.5   0.51  1.75  0.76 11.8   1.  ]]\n"
     ]
    }
   ],
   "source": [
    "print(Xtest)\n"
   ]
  },
  {
   "cell_type": "code",
   "execution_count": 44,
   "metadata": {},
   "outputs": [
    {
     "name": "stdout",
     "output_type": "stream",
     "text": [
      "443     1\n",
      "868     1\n",
      "625     1\n",
      "77      1\n",
      "195     1\n",
      "       ..\n",
      "1441    1\n",
      "70      1\n",
      "1316    1\n",
      "1037    1\n",
      "5       1\n",
      "Name: quality, Length: 1199, dtype: int32\n"
     ]
    }
   ],
   "source": [
    "print(Ytrain)"
   ]
  },
  {
   "cell_type": "code",
   "execution_count": 45,
   "metadata": {},
   "outputs": [
    {
     "name": "stdout",
     "output_type": "stream",
     "text": [
      "762     1\n",
      "1027    1\n",
      "258     1\n",
      "176     1\n",
      "1034    1\n",
      "       ..\n",
      "1341    1\n",
      "143     1\n",
      "474     1\n",
      "318     1\n",
      "1156    1\n",
      "Name: quality, Length: 400, dtype: int32\n"
     ]
    }
   ],
   "source": [
    "print(Ytest)"
   ]
  },
  {
   "cell_type": "code",
   "execution_count": 46,
   "metadata": {},
   "outputs": [
    {
     "data": {
      "text/plain": [
       "'\\n#feature scaling Standard scaler\\nXtrain = (Xtrain - Xtrain.mean())/Xtrain.std()\\nXtest = (Xtest - Xtest.mean())/Xtest.std()\\n'"
      ]
     },
     "execution_count": 46,
     "metadata": {},
     "output_type": "execute_result"
    }
   ],
   "source": [
    "\"\"\"\n",
    "#feature scaling Standard scaler\n",
    "Xtrain = (Xtrain - Xtrain.mean())/Xtrain.std()\n",
    "Xtest = (Xtest - Xtest.mean())/Xtest.std()\n",
    "\"\"\""
   ]
  },
  {
   "cell_type": "code",
   "execution_count": 47,
   "metadata": {},
   "outputs": [
    {
     "name": "stdout",
     "output_type": "stream",
     "text": [
      "[[10.    0.49  2.7   0.63 11.6   1.  ]\n",
      " [ 6.8   0.22  1.8   0.82 11.2   1.  ]\n",
      " [ 6.8   0.    5.6   0.72 10.2   1.  ]\n",
      " ...\n",
      " [ 5.4   0.    1.2   0.59 12.5   1.  ]\n",
      " [ 7.3   0.1   1.8   0.56  9.2   1.  ]\n",
      " [ 7.4   0.    1.8   0.56  9.4   1.  ]]\n"
     ]
    }
   ],
   "source": [
    "print(Xtrain)"
   ]
  },
  {
   "cell_type": "code",
   "execution_count": 48,
   "metadata": {},
   "outputs": [
    {
     "name": "stdout",
     "output_type": "stream",
     "text": [
      "[[ 8.8   0.    1.7   0.53 10.    1.  ]\n",
      " [ 6.4   0.    2.2   0.52 11.6   1.  ]\n",
      " [ 7.7   0.76  1.8   1.26  9.4   1.  ]\n",
      " ...\n",
      " [10.5   0.51  1.7   0.89  9.4   1.  ]\n",
      " [ 9.8   0.39  3.2   0.71 11.5   1.  ]\n",
      " [ 8.5   0.51  1.75  0.76 11.8   1.  ]]\n"
     ]
    }
   ],
   "source": [
    "print(Xtest)"
   ]
  },
  {
   "cell_type": "code",
   "execution_count": 49,
   "metadata": {},
   "outputs": [],
   "source": [
    "Xtest = np.array(Xtest)\n",
    "Ytest = np.array(Ytest)"
   ]
  },
  {
   "cell_type": "code",
   "execution_count": 50,
   "metadata": {},
   "outputs": [
    {
     "name": "stdout",
     "output_type": "stream",
     "text": [
      "[[ 8.8   0.    1.7   0.53 10.    1.  ]\n",
      " [ 6.4   0.    2.2   0.52 11.6   1.  ]\n",
      " [ 7.7   0.76  1.8   1.26  9.4   1.  ]\n",
      " ...\n",
      " [10.5   0.51  1.7   0.89  9.4   1.  ]\n",
      " [ 9.8   0.39  3.2   0.71 11.5   1.  ]\n",
      " [ 8.5   0.51  1.75  0.76 11.8   1.  ]]\n"
     ]
    }
   ],
   "source": [
    "print(Xtest)"
   ]
  },
  {
   "cell_type": "code",
   "execution_count": 51,
   "metadata": {},
   "outputs": [
    {
     "name": "stdout",
     "output_type": "stream",
     "text": [
      "[[ 6.3   0.15  1.8   0.82 11.6   1.  ]\n",
      " [ 7.9   0.68  8.3   0.51 12.3   1.  ]\n",
      " [ 6.2   0.43  2.    0.87 11.2   1.  ]\n",
      " ...\n",
      " [ 9.3   0.44  1.6   0.81 10.8   1.  ]\n",
      " [ 8.3   0.48  2.1   0.62 12.4   1.  ]\n",
      " [ 7.3   0.18  2.4   0.54  9.8   1.  ]]\n"
     ]
    }
   ],
   "source": [
    "Xtest = shuffle(Xtest,random_state = 45)\n",
    "print(Xtest)"
   ]
  },
  {
   "cell_type": "code",
   "execution_count": 52,
   "metadata": {},
   "outputs": [
    {
     "name": "stdout",
     "output_type": "stream",
     "text": [
      "[1 1 1 1 1 1 1 1 1 1 1 1 1 1 1 1 1 1 1 1 1 1 1 1 1 1 1 1 1 1 1 1 1 1 1 1 1\n",
      " 1 1 1 1 1 1 1 1 1 1 1 1 1 1 1 1 1 1 1 1 1 1 1 1 1 1 1 1 1 1 1 1 1 0 1 1 1\n",
      " 1 1 1 1 1 1 1 1 1 1 1 1 1 1 1 1 1 1 1 1 1 1 1 1 1 1 1 1 1 1 1 1 1 1 1 1 0\n",
      " 1 1 1 1 1 1 1 1 1 1 1 1 1 1 1 1 1 1 1 1 1 1 1 1 1 1 1 1 1 1 1 1 1 1 1 1 1\n",
      " 1 1 1 1 1 1 1 1 1 1 1 1 1 1 1 1 1 1 1 1 1 1 1 1 1 1 1 1 1 1 1 1 1 1 1 1 1\n",
      " 1 1 1 1 1 1 1 1 1 1 1 1 0 1 0 1 1 1 1 1 1 1 1 1 1 1 1 1 1 1 1 1 1 1 1 1 1\n",
      " 1 1 1 1 1 1 1 1 1 1 1 1 1 1 1 1 1 1 1 1 1 1 1 1 0 1 1 1 1 1 1 1 0 1 1 1 1\n",
      " 1 1 1 1 1 1 1 1 1 1 1 1 1 1 1 1 1 1 1 1 1 1 1 1 1 1 1 1 1 1 1 1 1 1 1 1 1\n",
      " 1 1 1 1 1 1 1 0 1 0 1 1 1 1 1 1 1 1 1 1 1 1 1 1 1 1 1 1 0 1 1 1 1 1 1 1 1\n",
      " 1 1 1 1 1 1 1 1 1 1 1 1 1 1 0 1 1 1 1 1 0 1 1 1 1 1 1 1 1 1 1 1 1 1 1 1 1\n",
      " 1 1 1 1 1 1 1 0 1 1 1 1 0 1 1 1 0 1 1 1 1 1 1 1 1 1 1 1 1 1]\n"
     ]
    }
   ],
   "source": [
    "print(Ytest)"
   ]
  },
  {
   "cell_type": "code",
   "execution_count": 53,
   "metadata": {},
   "outputs": [
    {
     "name": "stdout",
     "output_type": "stream",
     "text": [
      "int32\n",
      "float64\n",
      "(400,)\n",
      "(400, 6)\n"
     ]
    }
   ],
   "source": [
    "print(Ytest.dtype)\n",
    "print(Xtest.dtype)\n",
    "print(Ytest.shape)\n",
    "print(Xtest.shape)"
   ]
  },
  {
   "cell_type": "code",
   "execution_count": 54,
   "metadata": {},
   "outputs": [],
   "source": [
    "Z = np.dot(Xtest,w)"
   ]
  },
  {
   "cell_type": "code",
   "execution_count": 55,
   "metadata": {},
   "outputs": [
    {
     "name": "stdout",
     "output_type": "stream",
     "text": [
      "[  0.75643786  -7.70993424  -0.12552346 -11.11856043 -11.90853557\n",
      "  -2.19504798  -5.60862392 -13.34059398  -0.39626207  -5.90713133\n",
      "  -4.11746403  -5.81774998  -9.7255763   -6.8529418  -20.68849842\n",
      "  -8.84993374  -6.8529418   -3.04205256   4.40081158 -16.30220925\n",
      " -14.46666186  -6.60181188  -7.37720069 -20.2917434   -4.03188706\n",
      "  -5.80882567  -6.78943904  -5.72061225  -6.84998163  -4.96707505\n",
      "  -3.22072027  -6.18580443  -9.03784576 -12.31830571   1.11991763\n",
      "  -1.09307046  -9.21570166  -6.14485078  -6.5945391   -6.15293243\n",
      "  -7.06791882   5.91721873  -6.49353288 -10.2140396  -20.56349803\n",
      "  -8.9869657  -16.73675517  -1.11945013  -1.73155864 -11.5159497\n",
      "  -9.10075408  -8.0852111   -5.38596699  -5.71195032 -20.45378442\n",
      "  -1.7184451  -10.36897314   0.84745912 -11.59792804  -5.13182749\n",
      "  -3.52785999  -8.02075295  -8.15021178  -4.96296707  -6.34687131\n",
      "  -3.88135226 -17.80410908  -3.95243428  -0.42880025 -14.19093677\n",
      "  -2.3770475  -10.7866071   -8.05171874  -4.98592515  -3.49097548\n",
      "  -5.64728136  -5.35290165 -13.44142805 -10.11236151  -5.41038478\n",
      " -17.47284152  -2.93902828  -6.19165311 -11.28484687   0.06709803\n",
      "  -3.26559828  -7.89671494  -0.20687467  -7.87081508  -5.04564513\n",
      "  -5.06166086  -3.49159547  -1.3657838   -1.03158397 -15.98737676\n",
      "  -4.46696774  -8.12336863  -9.59593509  -5.91480944 -13.32994688\n",
      "  -3.52785999  -7.31549031  -5.89363049 -10.50001452  -2.67008024\n",
      "  -8.36356883  -1.3238614   -5.27327394  -9.09414335 -17.10992433\n",
      "  -7.49062591  -4.8445663   -5.92383084  -3.13067815  -2.22711648\n",
      "  -4.72509428  -9.80709915 -12.96049202 -13.17074149  -3.28626687\n",
      " -14.27493064  -9.714081     0.17522675  -3.63612257  -4.96806264\n",
      "  -9.34626413  -4.76949755  -1.62815642  -3.19142554  -0.35407767\n",
      "  -3.7526407   -5.53498336   0.39956096   0.98119983  -4.63693003\n",
      "  -4.99935542  -1.06788373  -4.19494849  -6.14285125  -7.22370065\n",
      " -10.65478461  -4.05312178 -14.95267859  -7.5985973   -4.46450479\n",
      " -16.05647069  -6.55343341 -10.71452854  -7.54417625  -3.42963576\n",
      "  -3.56063301  -1.8263898   -8.43127237  -6.82165934  -4.32550374\n",
      " -15.06084827   4.55513458  -2.78411324 -13.27057225  -6.52518547\n",
      "   1.20220639  -4.84836453  -6.92681071  -5.21555543  -6.07301877\n",
      "  -9.93225476  -6.31014115  -2.51239367  -4.11836551  -5.65132698\n",
      " -15.37407212  -7.54417625  -8.4878845   -3.23215906 -13.37499238\n",
      "  -7.73964222  -3.46879331 -11.4978065   -3.12392722  -9.10254635\n",
      "  -6.14485078  -2.04594476  -5.72366603  -3.54236524 -10.71000121\n",
      " -20.93097835 -11.38559526   2.13004365   0.91446487  -2.22559461\n",
      " -13.21019352  -2.78411324   2.35527816  -5.67846639  -5.88372761\n",
      " -11.85098398  -4.10217933  -0.24817666  -0.71115054  -7.59553925\n",
      "  -6.62582706  -6.12965934 -11.39258702 -12.63690957  -6.90585932\n",
      " -14.24532874  -7.91902791  -8.26448867 -10.7866071  -15.73345996\n",
      "  -5.76903778 -11.28821363  -4.03183514  -2.68863269 -13.68379204\n",
      "  -2.41703329  -1.71932092  -9.45514918  -9.04888984  -9.64557675\n",
      "  -4.27366111  -4.46198567 -11.47712578 -10.25886501  -6.50493878\n",
      " -13.03949268  -2.55976496  -9.4030929   -7.00763764 -10.14748998\n",
      " -11.72133987 -17.62928329  -0.89641932  -9.50841567  -7.18689671\n",
      " -24.36937086 -11.15427869   0.03339567  -8.38943875  -4.38924802\n",
      "  -5.80697697  -5.41834656  -9.71308402  -4.44986438  -9.20071725\n",
      " -11.90853557  -5.08282774  -9.57954846  -5.91480944  -5.31413787\n",
      "  -9.54527515  -3.07035458  -8.82290385   3.0525938   -8.49987915\n",
      "  -3.49281352   0.68870937  -4.77194261  -2.37048712  -5.31414\n",
      "  -8.94595402 -14.23684808  -5.29737092  -1.71932092  -4.13055096\n",
      "  -5.6353503   -4.77289772 -24.34777169  -7.84823426  -3.74573072\n",
      "  -3.49281352  -2.21007998  -6.81148854  -5.0649152  -13.38418201\n",
      "   4.16074913  -1.98563121  -7.48087295  -7.59443841  -2.17382097\n",
      " -16.01576351  -7.00878523  -6.64231599  -6.3572811   -5.52916464\n",
      "  -3.1320261   -6.12544021  -8.66727474  -3.04699123  -8.45180193\n",
      " -12.78455287  -0.86198832   4.07369374  -7.35061791 -10.22464068\n",
      "  -6.56223214  -2.47007086  -7.46974031 -14.7339018   -5.38596699\n",
      "  -6.61993733  -7.69193911  -7.20507154  -4.15631107  -8.2059365\n",
      "  -9.89625179  -1.05305401   0.64315045 -14.70947818  -3.56425365\n",
      "   5.82651888  -9.05367694 -11.63073229  -3.93295419  -1.73155864\n",
      "  -2.49286619  -2.3770475   -7.776172     1.24672949  -3.61339478\n",
      " -15.33639544  -6.06042855 -12.76860134 -10.53991965  -4.00651449\n",
      "  -8.09752712  -5.8779947   -8.00143215  -3.02670079  -3.62101718\n",
      "  -3.92560538  -0.46479215  -5.28204434  -7.33738407  -3.58733885\n",
      "  -3.32422688  -8.67045804 -17.76479822  -6.8705455  -16.17712578\n",
      "  -2.32042399  -4.77598333  -7.55341596  -7.0179894   -1.10901826\n",
      "  -4.58236988  -3.23914389  -9.81015998  -2.55949107  -2.28304795\n",
      "  -5.71556725  -5.5032074   -4.62556952  -9.91454965  -1.55162018\n",
      "  -6.01125678   0.74582183  -2.53909406  -7.92016561  -1.9775505\n",
      " -17.80410908  -2.05609769  -7.69963033 -17.81425803  -1.57010854\n",
      "  -4.07360863  -3.40638259  -0.32129261 -11.15525131  -1.70686086\n",
      "  -7.18769518  -1.08547649 -14.78805784  -3.3357087  -10.67625645\n",
      "  -6.59665865 -11.68223281   0.68870937  -9.7420662   -9.18386661\n",
      "  -5.89885498  -9.20071725  -5.75832107 -10.88194991  -3.06932133\n",
      " -13.43671383  -9.81365805  -2.35696519   2.22906852  -6.12913516\n",
      " -13.37787028  -9.40995841  -1.35339831  -2.67008024  -5.75832107\n",
      "  -4.20878136  -7.37631246  -7.88078259  -3.60783924  -4.77621773]\n",
      "(400,)\n"
     ]
    }
   ],
   "source": [
    "print(Z)\n",
    "print(Z.shape)"
   ]
  },
  {
   "cell_type": "code",
   "execution_count": 56,
   "metadata": {},
   "outputs": [],
   "source": [
    "def sigmoid(Z):\n",
    "    return 1/(1+np.exp(-Z))"
   ]
  },
  {
   "cell_type": "code",
   "execution_count": 57,
   "metadata": {},
   "outputs": [
    {
     "name": "stdout",
     "output_type": "stream",
     "text": [
      "(400,)\n"
     ]
    }
   ],
   "source": [
    "print(sigmoid(Z).shape)"
   ]
  },
  {
   "cell_type": "code",
   "execution_count": 58,
   "metadata": {},
   "outputs": [],
   "source": [
    "predictions = sigmoid(Z)"
   ]
  },
  {
   "cell_type": "code",
   "execution_count": 59,
   "metadata": {},
   "outputs": [
    {
     "name": "stdout",
     "output_type": "stream",
     "text": [
      "[6.80579856e-01 4.48150030e-04 4.68660273e-01 1.48341995e-05\n",
      " 6.73264615e-06 1.00196064e-01 3.65271946e-03 1.60787747e-06\n",
      " 4.02210747e-01 2.71260021e-03 1.60247864e-02 2.96546966e-03\n",
      " 5.97323960e-05 1.05522888e-03 1.03537887e-09 1.43370679e-04\n",
      " 1.05522888e-03 4.55618300e-02 9.87881285e-01 8.31841233e-08\n",
      " 5.21444820e-07 1.35606404e-03 6.24958169e-04 1.53959968e-09\n",
      " 1.74315700e-02 2.99197333e-03 1.12433446e-03 3.26699527e-03\n",
      " 1.05835386e-03 6.91533132e-03 3.83933847e-02 2.05421652e-03\n",
      " 1.18812423e-04 4.46915960e-06 7.53973437e-01 2.51040531e-01\n",
      " 9.94554130e-05 2.13990685e-03 1.36594882e-03 2.12271912e-03\n",
      " 8.51279142e-04 9.97314552e-01 1.51090732e-03 3.66507651e-05\n",
      " 1.17323842e-09 1.25013263e-04 5.38665996e-08 2.46113294e-01\n",
      " 1.50388321e-01 9.96970398e-06 1.11569187e-04 3.07966634e-04\n",
      " 4.55952447e-03 3.29532300e-03 1.30928529e-09 1.52071554e-01\n",
      " 3.13905228e-05 7.00033864e-01 9.18501486e-06 5.87108467e-03\n",
      " 2.85298401e-02 3.28464607e-04 2.88590908e-04 6.94360011e-03\n",
      " 1.74915581e-03 2.02062078e-02 1.85256590e-08 1.88458975e-02\n",
      " 3.94412857e-01 6.86995942e-07 8.49397676e-02 2.06741222e-05\n",
      " 3.18452495e-04 6.78707399e-03 2.95700993e-02 3.51469598e-03\n",
      " 4.71208465e-03 1.45365497e-06 4.05732292e-05 4.45002866e-03\n",
      " 2.58012848e-08 5.02576347e-02 2.04226160e-03 1.25616828e-05\n",
      " 5.16768218e-01 3.67704124e-02 3.71825151e-04 4.48464996e-01\n",
      " 3.81577443e-04 6.39613226e-03 6.29514924e-03 2.95523135e-02\n",
      " 2.03301891e-01 2.62777134e-01 1.13964724e-07 1.13517383e-02\n",
      " 2.96440179e-04 6.79999836e-05 2.69190816e-03 1.62508814e-06\n",
      " 2.85298401e-02 6.64712965e-04 2.74936956e-03 2.75352913e-05\n",
      " 6.47621085e-02 2.33156184e-04 2.10176574e-01 5.10064827e-03\n",
      " 1.12309100e-04 3.70897802e-08 5.57981892e-04 7.80956106e-03\n",
      " 2.66779711e-03 4.18593998e-02 9.73417113e-02 8.79189461e-03\n",
      " 5.50563029e-05 2.35141244e-06 1.90554330e-06 3.60453329e-02\n",
      " 6.31649444e-07 6.04229583e-05 5.43694944e-01 2.56776167e-02\n",
      " 6.90855233e-03 8.72832995e-05 8.41325869e-03 1.64083069e-01\n",
      " 3.94896731e-02 4.12393947e-01 2.29181623e-02 3.93076245e-03\n",
      " 5.98582173e-01 7.27346225e-01 9.59444685e-03 6.69713750e-03\n",
      " 2.55805748e-01 1.48477408e-02 2.14418075e-03 7.28568083e-04\n",
      " 2.35871567e-05 1.70715704e-02 3.20725920e-07 5.00902880e-04\n",
      " 1.13794129e-02 1.06356327e-07 1.42318550e-03 2.22192670e-05\n",
      " 5.28903112e-04 3.13820023e-02 2.76354073e-02 1.38668912e-01\n",
      " 2.17896519e-04 1.08872428e-03 1.30542189e-02 2.87843601e-07\n",
      " 9.89596290e-01 5.81887284e-02 1.72449902e-06 1.46390106e-03\n",
      " 7.68917056e-01 7.78018518e-03 9.80163309e-04 5.40207494e-03\n",
      " 2.29890967e-03 4.85797711e-05 1.81447833e-03 7.49938919e-02\n",
      " 1.60105781e-02 3.50055528e-03 2.10438511e-07 5.28903112e-04\n",
      " 2.05906078e-04 3.79732950e-02 1.55350960e-06 4.35037921e-04\n",
      " 3.02133181e-02 1.01522353e-05 4.21309997e-02 1.11369425e-04\n",
      " 2.13990685e-03 1.14462783e-01 3.25706626e-03 2.81305520e-02\n",
      " 2.23200869e-05 8.12440567e-10 1.13577910e-05 8.93789152e-01\n",
      " 7.13912943e-01 9.74755141e-02 1.83182952e-06 5.81887284e-02\n",
      " 9.13352850e-01 3.40714917e-03 2.77665551e-03 7.13148473e-06\n",
      " 1.62675868e-02 4.38272335e-01 3.29344664e-01 5.02436237e-04\n",
      " 1.32392845e-03 2.17259212e-03 1.12786579e-05 3.24981391e-06\n",
      " 1.00089497e-03 6.50626956e-07 3.63623487e-04 2.57434269e-04\n",
      " 2.06741222e-05 1.46907880e-07 3.11303958e-03 1.25194622e-05\n",
      " 1.74324593e-02 6.36474564e-02 1.14078586e-06 8.18830108e-02\n",
      " 1.51958654e-01 7.82792915e-05 1.17507623e-04 6.47069813e-05\n",
      " 1.37392902e-02 1.14077877e-02 1.03643746e-05 3.50442133e-05\n",
      " 1.49379757e-03 2.17279793e-06 7.17731994e-02 8.24618031e-05\n",
      " 9.04125690e-04 3.91727522e-05 8.11863929e-06 2.20647767e-08\n",
      " 2.89786884e-01 7.42190362e-05 7.55861156e-04 2.60925611e-11\n",
      " 1.43137062e-05 5.08348141e-01 2.27203156e-04 1.22579361e-02\n",
      " 2.99749312e-03 4.41489499e-03 6.04832249e-05 1.15453001e-02\n",
      " 1.00956764e-04 6.73264615e-06 6.16411358e-03 6.91233762e-05\n",
      " 2.69190816e-03 4.89741717e-03 7.15333573e-05 4.43467979e-02\n",
      " 1.47298243e-04 9.54894376e-01 2.03451559e-04 2.95174010e-02\n",
      " 6.65679757e-01 8.39288535e-03 8.54510640e-02 4.89740679e-03\n",
      " 1.30246172e-04 6.56168162e-07 4.97981184e-03 1.51958654e-01\n",
      " 1.58197335e-02 3.55673116e-03 8.38494022e-03 2.66622693e-11\n",
      " 3.90288394e-04 2.30734083e-02 2.95174010e-02 9.88489487e-02\n",
      " 1.09984173e-03 6.27482431e-03 1.53929883e-06 9.84643626e-01\n",
      " 1.20719827e-01 5.63447412e-04 5.02989368e-04 1.02126132e-01\n",
      " 1.10775121e-07 9.03089655e-04 1.30230548e-03 1.73107327e-03\n",
      " 3.95361043e-03 4.18053707e-02 2.18175790e-03 1.72097935e-04\n",
      " 4.53475487e-02 2.13469751e-04 2.80374181e-06 2.96924096e-01\n",
      " 9.83270222e-01 6.41783266e-04 3.62642939e-05 1.41073580e-03\n",
      " 7.79831397e-02 5.69751516e-04 3.99160520e-07 4.55952447e-03\n",
      " 1.33173862e-03 4.56283835e-04 7.42257698e-04 1.54236246e-02\n",
      " 2.72953394e-04 5.03605640e-05 2.58639078e-01 6.55465276e-01\n",
      " 4.09029488e-07 2.75382806e-02 9.97060344e-01 1.16946512e-04\n",
      " 8.88859845e-06 1.92094951e-02 1.50388321e-01 7.63598025e-02\n",
      " 8.49397676e-02 4.19439387e-04 7.76733206e-01 2.62523985e-02\n",
      " 2.18518390e-07 2.32796861e-03 2.84882426e-06 2.64581557e-05\n",
      " 1.78715071e-02 3.04198119e-04 2.79257496e-03 3.34870364e-04\n",
      " 4.62340928e-02 2.60582474e-02 1.93484406e-02 3.85849609e-01\n",
      " 5.05633432e-03 6.50327415e-04 2.69267577e-02 3.47493521e-02\n",
      " 1.71551061e-04 1.92684221e-08 1.03683459e-03 9.42678274e-08\n",
      " 8.94455214e-02 8.35932339e-03 5.24041259e-04 8.94822999e-04\n",
      " 2.48053961e-01 1.01270165e-02 3.77189519e-02 5.48880515e-05\n",
      " 7.17914490e-02 9.25366877e-02 3.28346465e-03 4.05715695e-03\n",
      " 9.70300249e-03 4.94474981e-05 1.74852386e-01 2.44501313e-03\n",
      " 6.78267617e-01 7.31625810e-02 3.63210178e-04 1.21580198e-01\n",
      " 1.85256590e-08 1.13437692e-01 4.52789498e-04 1.83385938e-08\n",
      " 1.72200918e-01 1.67311779e-02 3.20965874e-02 4.20360760e-01\n",
      " 1.42997913e-05 1.53571320e-01 7.55258318e-04 2.52471042e-01\n",
      " 3.78118491e-07 3.43662812e-02 2.30861073e-05 1.36306064e-03\n",
      " 8.44242261e-06 6.65679757e-01 5.87555490e-05 1.02672187e-04\n",
      " 2.73508215e-03 1.00956764e-04 3.14647500e-03 1.87940787e-05\n",
      " 4.43906078e-02 1.46052399e-06 5.46963955e-05 8.65137323e-02\n",
      " 9.02829673e-01 2.17372879e-03 1.54904518e-06 8.18976461e-05\n",
      " 2.05315345e-01 6.47621085e-02 3.14647500e-03 1.46467555e-02\n",
      " 6.25513173e-04 3.77794390e-04 2.63947904e-02 8.35738060e-03]\n",
      "(400,)\n"
     ]
    }
   ],
   "source": [
    "print(predictions)\n",
    "print(predictions.shape)"
   ]
  },
  {
   "cell_type": "code",
   "execution_count": 60,
   "metadata": {},
   "outputs": [],
   "source": [
    "#Error rate\n",
    "def cross_entropy(T,Y):\n",
    "    return -(T*np.log(Y)+(1-T)*np.log(1-Y)).mean()"
   ]
  },
  {
   "cell_type": "code",
   "execution_count": 61,
   "metadata": {},
   "outputs": [
    {
     "data": {
      "text/plain": [
       "6.572545963816586"
      ]
     },
     "execution_count": 61,
     "metadata": {},
     "output_type": "execute_result"
    }
   ],
   "source": [
    "cross_entropy(Ytest,predictions)"
   ]
  },
  {
   "cell_type": "code",
   "execution_count": 62,
   "metadata": {},
   "outputs": [],
   "source": [
    "learning_rate = 0.001\n",
    "error = []"
   ]
  },
  {
   "cell_type": "code",
   "execution_count": 63,
   "metadata": {},
   "outputs": [
    {
     "name": "stdout",
     "output_type": "stream",
     "text": [
      "6.572545963816586\n",
      "0.15680372595825223\n",
      "0.15638922633323374\n",
      "0.1561270681891477\n",
      "0.15595520862001389\n",
      "0.15583953834273823\n",
      "0.1557600468165557\n",
      "0.15570445829981255\n",
      "0.15566499079605903\n",
      "0.15563658486216356\n"
     ]
    }
   ],
   "source": [
    "\n",
    "#Gradient Descent\n",
    "for i in range(5000):\n",
    "    e = cross_entropy(Ytest,predictions)\n",
    "    error.append(e)\n",
    "    if i % 500 == 0:\n",
    "        print(e) \n",
    "        # l2 regularisation\n",
    "    w = w + learning_rate*(Xtest.T.dot(Ytest-predictions)-0.01*w) #l2 = 0.01\n",
    "    #updating weights & recalculating\n",
    "    Z = np.dot(Xtest,w)\n",
    "    \n",
    "    predictions = sigmoid(Z)"
   ]
  },
  {
   "cell_type": "code",
   "execution_count": 64,
   "metadata": {},
   "outputs": [],
   "source": [
    "Ypred = []\n",
    "for i in predictions:\n",
    "    if i > 0.5:\n",
    "        Ypred.append(1)\n",
    "    else:\n",
    "        Ypred.append(0)"
   ]
  },
  {
   "cell_type": "code",
   "execution_count": 65,
   "metadata": {},
   "outputs": [
    {
     "data": {
      "text/plain": [
       "[1,\n",
       " 1,\n",
       " 1,\n",
       " 1,\n",
       " 1,\n",
       " 1,\n",
       " 1,\n",
       " 1,\n",
       " 1,\n",
       " 1,\n",
       " 1,\n",
       " 1,\n",
       " 1,\n",
       " 1,\n",
       " 1,\n",
       " 1,\n",
       " 1,\n",
       " 1,\n",
       " 1,\n",
       " 1,\n",
       " 1,\n",
       " 1,\n",
       " 1,\n",
       " 1,\n",
       " 1,\n",
       " 1,\n",
       " 1,\n",
       " 1,\n",
       " 1,\n",
       " 1,\n",
       " 1,\n",
       " 1,\n",
       " 1,\n",
       " 1,\n",
       " 1,\n",
       " 1,\n",
       " 1,\n",
       " 1,\n",
       " 1,\n",
       " 1,\n",
       " 1,\n",
       " 1,\n",
       " 1,\n",
       " 1,\n",
       " 1,\n",
       " 1,\n",
       " 1,\n",
       " 1,\n",
       " 1,\n",
       " 1,\n",
       " 1,\n",
       " 1,\n",
       " 1,\n",
       " 1,\n",
       " 1,\n",
       " 1,\n",
       " 1,\n",
       " 1,\n",
       " 1,\n",
       " 1,\n",
       " 1,\n",
       " 1,\n",
       " 1,\n",
       " 1,\n",
       " 1,\n",
       " 1,\n",
       " 1,\n",
       " 1,\n",
       " 1,\n",
       " 1,\n",
       " 1,\n",
       " 1,\n",
       " 1,\n",
       " 1,\n",
       " 1,\n",
       " 1,\n",
       " 1,\n",
       " 1,\n",
       " 1,\n",
       " 1,\n",
       " 1,\n",
       " 1,\n",
       " 1,\n",
       " 1,\n",
       " 1,\n",
       " 1,\n",
       " 1,\n",
       " 1,\n",
       " 1,\n",
       " 1,\n",
       " 1,\n",
       " 1,\n",
       " 1,\n",
       " 1,\n",
       " 1,\n",
       " 1,\n",
       " 1,\n",
       " 1,\n",
       " 1,\n",
       " 1,\n",
       " 1,\n",
       " 1,\n",
       " 1,\n",
       " 1,\n",
       " 1,\n",
       " 1,\n",
       " 1,\n",
       " 1,\n",
       " 1,\n",
       " 1,\n",
       " 1,\n",
       " 1,\n",
       " 1,\n",
       " 1,\n",
       " 1,\n",
       " 1,\n",
       " 1,\n",
       " 1,\n",
       " 1,\n",
       " 1,\n",
       " 1,\n",
       " 1,\n",
       " 1,\n",
       " 1,\n",
       " 1,\n",
       " 1,\n",
       " 1,\n",
       " 1,\n",
       " 1,\n",
       " 1,\n",
       " 1,\n",
       " 1,\n",
       " 1,\n",
       " 1,\n",
       " 1,\n",
       " 1,\n",
       " 1,\n",
       " 1,\n",
       " 1,\n",
       " 1,\n",
       " 1,\n",
       " 1,\n",
       " 1,\n",
       " 1,\n",
       " 1,\n",
       " 1,\n",
       " 1,\n",
       " 1,\n",
       " 1,\n",
       " 1,\n",
       " 1,\n",
       " 1,\n",
       " 1,\n",
       " 1,\n",
       " 1,\n",
       " 1,\n",
       " 1,\n",
       " 1,\n",
       " 1,\n",
       " 1,\n",
       " 1,\n",
       " 1,\n",
       " 1,\n",
       " 1,\n",
       " 1,\n",
       " 1,\n",
       " 1,\n",
       " 1,\n",
       " 1,\n",
       " 1,\n",
       " 1,\n",
       " 1,\n",
       " 1,\n",
       " 1,\n",
       " 1,\n",
       " 1,\n",
       " 1,\n",
       " 1,\n",
       " 1,\n",
       " 1,\n",
       " 1,\n",
       " 1,\n",
       " 1,\n",
       " 1,\n",
       " 1,\n",
       " 1,\n",
       " 1,\n",
       " 1,\n",
       " 1,\n",
       " 1,\n",
       " 1,\n",
       " 1,\n",
       " 1,\n",
       " 1,\n",
       " 1,\n",
       " 1,\n",
       " 1,\n",
       " 1,\n",
       " 1,\n",
       " 1,\n",
       " 1,\n",
       " 1,\n",
       " 1,\n",
       " 1,\n",
       " 1,\n",
       " 1,\n",
       " 1,\n",
       " 1,\n",
       " 1,\n",
       " 1,\n",
       " 1,\n",
       " 1,\n",
       " 1,\n",
       " 1,\n",
       " 1,\n",
       " 1,\n",
       " 1,\n",
       " 1,\n",
       " 1,\n",
       " 1,\n",
       " 1,\n",
       " 1,\n",
       " 1,\n",
       " 1,\n",
       " 1,\n",
       " 1,\n",
       " 1,\n",
       " 1,\n",
       " 1,\n",
       " 1,\n",
       " 1,\n",
       " 1,\n",
       " 1,\n",
       " 1,\n",
       " 1,\n",
       " 1,\n",
       " 1,\n",
       " 1,\n",
       " 1,\n",
       " 1,\n",
       " 1,\n",
       " 1,\n",
       " 1,\n",
       " 1,\n",
       " 1,\n",
       " 1,\n",
       " 1,\n",
       " 1,\n",
       " 1,\n",
       " 1,\n",
       " 1,\n",
       " 1,\n",
       " 1,\n",
       " 1,\n",
       " 1,\n",
       " 1,\n",
       " 1,\n",
       " 1,\n",
       " 1,\n",
       " 1,\n",
       " 1,\n",
       " 1,\n",
       " 1,\n",
       " 1,\n",
       " 1,\n",
       " 1,\n",
       " 1,\n",
       " 1,\n",
       " 1,\n",
       " 1,\n",
       " 1,\n",
       " 1,\n",
       " 1,\n",
       " 1,\n",
       " 1,\n",
       " 1,\n",
       " 1,\n",
       " 1,\n",
       " 1,\n",
       " 1,\n",
       " 1,\n",
       " 1,\n",
       " 1,\n",
       " 1,\n",
       " 1,\n",
       " 1,\n",
       " 1,\n",
       " 1,\n",
       " 1,\n",
       " 1,\n",
       " 1,\n",
       " 1,\n",
       " 1,\n",
       " 1,\n",
       " 1,\n",
       " 1,\n",
       " 1,\n",
       " 1,\n",
       " 1,\n",
       " 1,\n",
       " 1,\n",
       " 1,\n",
       " 1,\n",
       " 1,\n",
       " 1,\n",
       " 1,\n",
       " 1,\n",
       " 1,\n",
       " 1,\n",
       " 1,\n",
       " 1,\n",
       " 1,\n",
       " 1,\n",
       " 1,\n",
       " 1,\n",
       " 1,\n",
       " 1,\n",
       " 1,\n",
       " 1,\n",
       " 1,\n",
       " 1,\n",
       " 1,\n",
       " 1,\n",
       " 1,\n",
       " 1,\n",
       " 1,\n",
       " 1,\n",
       " 1,\n",
       " 1,\n",
       " 1,\n",
       " 1,\n",
       " 1,\n",
       " 1,\n",
       " 1,\n",
       " 1,\n",
       " 1,\n",
       " 1,\n",
       " 1,\n",
       " 1,\n",
       " 1,\n",
       " 1,\n",
       " 1,\n",
       " 1,\n",
       " 1,\n",
       " 1,\n",
       " 1,\n",
       " 1,\n",
       " 1,\n",
       " 1,\n",
       " 1,\n",
       " 1,\n",
       " 1,\n",
       " 1,\n",
       " 1,\n",
       " 1,\n",
       " 1,\n",
       " 1,\n",
       " 1,\n",
       " 1,\n",
       " 1,\n",
       " 1,\n",
       " 1,\n",
       " 1,\n",
       " 1,\n",
       " 1,\n",
       " 1,\n",
       " 1,\n",
       " 1,\n",
       " 1,\n",
       " 1,\n",
       " 1,\n",
       " 1,\n",
       " 1,\n",
       " 1,\n",
       " 1,\n",
       " 1,\n",
       " 1,\n",
       " 1,\n",
       " 1,\n",
       " 1,\n",
       " 1,\n",
       " 1,\n",
       " 1,\n",
       " 1,\n",
       " 1,\n",
       " 1,\n",
       " 1,\n",
       " 1,\n",
       " 1,\n",
       " 1,\n",
       " 1,\n",
       " 1,\n",
       " 1,\n",
       " 1,\n",
       " 1,\n",
       " 1,\n",
       " 1,\n",
       " 1,\n",
       " 1,\n",
       " 1]"
      ]
     },
     "execution_count": 65,
     "metadata": {},
     "output_type": "execute_result"
    }
   ],
   "source": [
    "Ypred"
   ]
  },
  {
   "cell_type": "code",
   "execution_count": 66,
   "metadata": {},
   "outputs": [],
   "source": [
    "compare = pd.DataFrame({'Actual':Ytest,'predicted':Ypred})"
   ]
  },
  {
   "cell_type": "code",
   "execution_count": 67,
   "metadata": {},
   "outputs": [
    {
     "data": {
      "text/html": [
       "<div>\n",
       "<style scoped>\n",
       "    .dataframe tbody tr th:only-of-type {\n",
       "        vertical-align: middle;\n",
       "    }\n",
       "\n",
       "    .dataframe tbody tr th {\n",
       "        vertical-align: top;\n",
       "    }\n",
       "\n",
       "    .dataframe thead th {\n",
       "        text-align: right;\n",
       "    }\n",
       "</style>\n",
       "<table border=\"1\" class=\"dataframe\">\n",
       "  <thead>\n",
       "    <tr style=\"text-align: right;\">\n",
       "      <th></th>\n",
       "      <th>Actual</th>\n",
       "      <th>predicted</th>\n",
       "    </tr>\n",
       "  </thead>\n",
       "  <tbody>\n",
       "    <tr>\n",
       "      <th>0</th>\n",
       "      <td>1</td>\n",
       "      <td>1</td>\n",
       "    </tr>\n",
       "    <tr>\n",
       "      <th>1</th>\n",
       "      <td>1</td>\n",
       "      <td>1</td>\n",
       "    </tr>\n",
       "    <tr>\n",
       "      <th>2</th>\n",
       "      <td>1</td>\n",
       "      <td>1</td>\n",
       "    </tr>\n",
       "    <tr>\n",
       "      <th>3</th>\n",
       "      <td>1</td>\n",
       "      <td>1</td>\n",
       "    </tr>\n",
       "    <tr>\n",
       "      <th>4</th>\n",
       "      <td>1</td>\n",
       "      <td>1</td>\n",
       "    </tr>\n",
       "    <tr>\n",
       "      <th>...</th>\n",
       "      <td>...</td>\n",
       "      <td>...</td>\n",
       "    </tr>\n",
       "    <tr>\n",
       "      <th>395</th>\n",
       "      <td>1</td>\n",
       "      <td>1</td>\n",
       "    </tr>\n",
       "    <tr>\n",
       "      <th>396</th>\n",
       "      <td>1</td>\n",
       "      <td>1</td>\n",
       "    </tr>\n",
       "    <tr>\n",
       "      <th>397</th>\n",
       "      <td>1</td>\n",
       "      <td>1</td>\n",
       "    </tr>\n",
       "    <tr>\n",
       "      <th>398</th>\n",
       "      <td>1</td>\n",
       "      <td>1</td>\n",
       "    </tr>\n",
       "    <tr>\n",
       "      <th>399</th>\n",
       "      <td>1</td>\n",
       "      <td>1</td>\n",
       "    </tr>\n",
       "  </tbody>\n",
       "</table>\n",
       "<p>400 rows × 2 columns</p>\n",
       "</div>"
      ],
      "text/plain": [
       "     Actual  predicted\n",
       "0         1          1\n",
       "1         1          1\n",
       "2         1          1\n",
       "3         1          1\n",
       "4         1          1\n",
       "..      ...        ...\n",
       "395       1          1\n",
       "396       1          1\n",
       "397       1          1\n",
       "398       1          1\n",
       "399       1          1\n",
       "\n",
       "[400 rows x 2 columns]"
      ]
     },
     "execution_count": 67,
     "metadata": {},
     "output_type": "execute_result"
    }
   ],
   "source": [
    "compare"
   ]
  },
  {
   "cell_type": "code",
   "execution_count": 68,
   "metadata": {},
   "outputs": [
    {
     "name": "stdout",
     "output_type": "stream",
     "text": [
      "[[  0  14]\n",
      " [  0 386]]\n"
     ]
    }
   ],
   "source": [
    "from sklearn.metrics import confusion_matrix\n",
    "print(confusion_matrix(Ytest,Ypred))"
   ]
  },
  {
   "cell_type": "code",
   "execution_count": 69,
   "metadata": {},
   "outputs": [
    {
     "name": "stdout",
     "output_type": "stream",
     "text": [
      "              precision    recall  f1-score   support\n",
      "\n",
      "           0       0.00      0.00      0.00        14\n",
      "           1       0.96      1.00      0.98       386\n",
      "\n",
      "    accuracy                           0.96       400\n",
      "   macro avg       0.48      0.50      0.49       400\n",
      "weighted avg       0.93      0.96      0.95       400\n",
      "\n"
     ]
    }
   ],
   "source": [
    "from sklearn.metrics import classification_report\n",
    "print(classification_report(Ytest,Ypred))"
   ]
  },
  {
   "cell_type": "code",
   "execution_count": 70,
   "metadata": {},
   "outputs": [
    {
     "name": "stdout",
     "output_type": "stream",
     "text": [
      "Accuracy score 0.965\n"
     ]
    }
   ],
   "source": [
    "from sklearn.metrics import accuracy_score\n",
    "print(\"Accuracy score\",accuracy_score(Ytest,Ypred))"
   ]
  },
  {
   "cell_type": "markdown",
   "metadata": {},
   "source": [
    "# Dynamically Testing"
   ]
  },
  {
   "cell_type": "code",
   "execution_count": 71,
   "metadata": {},
   "outputs": [
    {
     "data": {
      "text/plain": [
       "(6,)"
      ]
     },
     "execution_count": 71,
     "metadata": {},
     "output_type": "execute_result"
    }
   ],
   "source": [
    "Xin = np.array([7.8,0.02,2,0.57,9.5,1])\n",
    "Xin.shape"
   ]
  },
  {
   "cell_type": "code",
   "execution_count": 72,
   "metadata": {},
   "outputs": [
    {
     "name": "stdout",
     "output_type": "stream",
     "text": [
      "(1, 6)\n"
     ]
    }
   ],
   "source": [
    "Xin = Xin.reshape(1,6)\n",
    "print(Xin.shape)"
   ]
  },
  {
   "cell_type": "code",
   "execution_count": 73,
   "metadata": {},
   "outputs": [
    {
     "name": "stdout",
     "output_type": "stream",
     "text": [
      "[ 0.10824517 -0.28455704 -0.06417311  1.4358936   0.06622922  0.50514801]\n",
      "(6,)\n"
     ]
    }
   ],
   "source": [
    "print(w)\n",
    "print(w.shape)"
   ]
  },
  {
   "cell_type": "code",
   "execution_count": 74,
   "metadata": {},
   "outputs": [],
   "source": [
    "Ztest = np.dot(Xin,w)\n"
   ]
  },
  {
   "cell_type": "code",
   "execution_count": 84,
   "metadata": {},
   "outputs": [
    {
     "name": "stdout",
     "output_type": "stream",
     "text": [
      "[2.66305996]\n"
     ]
    }
   ],
   "source": [
    "print(Ztest)"
   ]
  },
  {
   "cell_type": "code",
   "execution_count": 85,
   "metadata": {},
   "outputs": [
    {
     "data": {
      "text/plain": [
       "array([0.93481139])"
      ]
     },
     "execution_count": 85,
     "metadata": {},
     "output_type": "execute_result"
    }
   ],
   "source": [
    "sigmoid(Ztest)"
   ]
  },
  {
   "cell_type": "code",
   "execution_count": null,
   "metadata": {},
   "outputs": [],
   "source": []
  },
  {
   "cell_type": "code",
   "execution_count": null,
   "metadata": {},
   "outputs": [],
   "source": []
  }
 ],
 "metadata": {
  "kernelspec": {
   "display_name": "Python 3",
   "language": "python",
   "name": "python3"
  },
  "language_info": {
   "codemirror_mode": {
    "name": "ipython",
    "version": 3
   },
   "file_extension": ".py",
   "mimetype": "text/x-python",
   "name": "python",
   "nbconvert_exporter": "python",
   "pygments_lexer": "ipython3",
   "version": "3.7.6"
  }
 },
 "nbformat": 4,
 "nbformat_minor": 4
}
